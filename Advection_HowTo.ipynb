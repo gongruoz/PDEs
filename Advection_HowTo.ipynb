{
 "cells": [
  {
   "cell_type": "markdown",
   "id": "28021c27",
   "metadata": {},
   "source": [
    "# Solving The Advection Equation\n",
    "\n",
    "### Sometimes before you can make a hard thing easy you have to make an easy thing hard.\n",
    "\n",
    "We're going to solve the Advection Equation here. \n",
    "\n",
    "$$\n",
    "\\partial_t u(t, x) + a \\partial_x u(t, x) = 0\n",
    "$$\n",
    "\n",
    "Here $a$ is the advection velocity (dimensions Length / Time) and $u$ is the quantity being advected.  The exact solution is trivial to write down: $u(t, x) = u(x - at, 0)$, but that is not the point.  The advection equation is the simplest example of a _conservation law_ partial differential equation, and is used a great deal to test numerical algorithms.  Before you can use your algorithm for hydrodynamics, you have to show it can deal with advection.\n",
    "\n",
    "Here we build a simple method to solve this equation to 1st order in space and time.  More sophisticated methods can go to substantially higher order."
   ]
  },
  {
   "cell_type": "markdown",
   "id": "75ae9f22",
   "metadata": {},
   "source": [
    "### Spatial Grid\n",
    "\n",
    "First we need to define our discretization of space.\n",
    "\n",
    "This is a \"cell-centered\" grid that breaks up the interval $[a, b]$ into $N_x$ cells of width $\\Delta x = (b-a)/N_x$.  There are $N_x+1$ _faces_ in between the cells: $x_{e,i} = a + i \\Delta x$ and $N_x$ cell centers at $x_i = a + (i+1/2)\\Delta x$.  The `make_grid` function also allows for $N_g$ _ghost zones_ on each side of the boundary, which are useful for applying boundary conditions."
   ]
  },
  {
   "cell_type": "code",
   "execution_count": 3,
   "id": "0a663b99",
   "metadata": {},
   "outputs": [
    {
     "data": {
      "text/plain": [
       "make_grid (generic function with 1 method)"
      ]
     },
     "execution_count": 3,
     "metadata": {},
     "output_type": "execute_result"
    }
   ],
   "source": [
    "function make_grid(a, b, Nx, Ng)\n",
    "    \n",
    "    # The desired cell-width\n",
    "    dx = (b - a) / Nx\n",
    "    \n",
    "    # First get the edges of all the cells, adding ghost zones to the left and right\n",
    "    xe = LinRange(a - Ng*dx, b + Ng*dx, Nx + 2*Ng + 1)\n",
    "    \n",
    "    # Now the cell centers are just the average of the left & right cell faces\n",
    "    xL = xe[begin:end-1]\n",
    "    xR = xe[begin+1:end]\n",
    "    x = 0.5*(xL + xR)\n",
    "    \n",
    "    return dx, x, xe\n",
    "end"
   ]
  },
  {
   "cell_type": "markdown",
   "id": "4e9ad6d7",
   "metadata": {},
   "source": [
    "### Plotting Utilities\n",
    "\n",
    "Just a couple useful functions for plotting our data.\n",
    "\n",
    "## You may have to change GLMakie to WGLMakie "
   ]
  },
  {
   "cell_type": "code",
   "execution_count": 2,
   "id": "46d7c3fe",
   "metadata": {},
   "outputs": [
    {
     "data": {
      "text/plain": [
       "add_to_plot (generic function with 1 method)"
      ]
     },
     "execution_count": 2,
     "metadata": {},
     "output_type": "execute_result"
    }
   ],
   "source": [
    "using GLMakie\n",
    "GLMakie.activate!()\n",
    "\n",
    "function make_figure()\n",
    "    fig = Figure()\n",
    "    ax = Axis(fig[1,1])\n",
    "    return fig, ax\n",
    "end\n",
    "\n",
    "function add_to_plot(ax, x, f)\n",
    "    lines!(ax, x, f)\n",
    "    # plot!(ax, x, f)\n",
    "end"
   ]
  },
  {
   "cell_type": "markdown",
   "id": "ed3bb395",
   "metadata": {},
   "source": [
    "### Initial Conditions\n",
    "\n",
    "These functions will return an array that can be used as an initial state for our solve."
   ]
  },
  {
   "cell_type": "code",
   "execution_count": 19,
   "id": "3a82ffd6",
   "metadata": {},
   "outputs": [
    {
     "data": {
      "text/plain": [
       "init_square (generic function with 1 method)"
      ]
     },
     "execution_count": 19,
     "metadata": {},
     "output_type": "execute_result"
    }
   ],
   "source": [
    "function init_bump(x, x0, width, amp)\n",
    "    # A smooth bump of amplitude `amp` and width `w` at position `x0`.\n",
    "    f = similar(x)\n",
    "    for i in 1:length(x)\n",
    "        if ((x[i]-x0)/width)^2 >= 1.0\n",
    "            f[i] = 0.0\n",
    "        else\n",
    "            f[i] = amp*cos(0.5*pi*(x[i]-x0)/width)^2\n",
    "        end\n",
    "    end\n",
    "    return f\n",
    "end\n",
    "\n",
    "function init_square(x, x0, width, amp)\n",
    "    # A square wave of amplitude `amp` and width `w` at position `x0`.\n",
    "    f = similar(x)\n",
    "    for i in 1:length(x)\n",
    "        if ((x[i]-x0)/width)^2 >= 1.0\n",
    "            f[i] = 0.0\n",
    "        else\n",
    "            f[i] = amp\n",
    "        end\n",
    "    end\n",
    "    return f\n",
    "end"
   ]
  },
  {
   "cell_type": "markdown",
   "id": "128476e6",
   "metadata": {},
   "source": [
    "### Boundary Conditions\n",
    "\n",
    "Every time step, we need to set the ghost zones to have appropriate values.  We will do this in two ways: a _periodic_ boundary condition that wraps the domain around on itself, and a _copy_ or _outflow_ boundary condition that copies the nearest real zone into the ghost zone (setting the gradient at the boundary to 0)"
   ]
  },
  {
   "cell_type": "code",
   "execution_count": 4,
   "id": "711206f4",
   "metadata": {},
   "outputs": [
    {
     "data": {
      "text/plain": [
       "copy_R (generic function with 1 method)"
      ]
     },
     "execution_count": 4,
     "metadata": {},
     "output_type": "execute_result"
    }
   ],
   "source": [
    "function no_BC(u)\n",
    "    # do nothing\n",
    "end\n",
    "\n",
    "function periodic_L(u)\n",
    "    # Periodic BC on the left edge.\n",
    "    u[begin] = u[end-1]\n",
    "end\n",
    "\n",
    "function periodic_R(u)\n",
    "    # Periodic BC on the right edge.\n",
    "    u[end] = u[begin+1]\n",
    "end\n",
    "\n",
    "function copy_L(u)\n",
    "    # Copy BC on the left edge.\n",
    "    u[begin] = u[begin+1]\n",
    "end\n",
    "\n",
    "function copy_R(u)\n",
    "    # Copy BC on the right edge.\n",
    "    u[end] = u[end-1]\n",
    "end"
   ]
  },
  {
   "cell_type": "markdown",
   "id": "77b0728f",
   "metadata": {},
   "source": [
    "## Grid Timestep Function\n",
    "\n",
    "These functions update our grid using Forward-Euler.  The first performs a single step.  The second computes many steps until a desired time $t_final$."
   ]
  },
  {
   "cell_type": "code",
   "execution_count": 16,
   "id": "82e71c4d",
   "metadata": {},
   "outputs": [
    {
     "data": {
      "text/plain": [
       "evolve (generic function with 1 method)"
      ]
     },
     "execution_count": 16,
     "metadata": {},
     "output_type": "execute_result"
    }
   ],
   "source": [
    "function timestep(u, dx, dt, a, udot_f, bc_L_f, bc_R_f)\n",
    "    N = length(u)\n",
    "    \n",
    "    udot = similar(u)\n",
    "    \n",
    "    # First compute the time derivative of u on for each (real) zone\n",
    "    for i in 2:N-1 \n",
    "        udot[i] = udot_f(u[i-1], u[i], u[i+1], a, dx)\n",
    "    end\n",
    "\n",
    "    # Now update each real zone in-place\n",
    "    for i in 2:N-1 \n",
    "        u[i] += dt * udot[i]\n",
    "    end\n",
    "    \n",
    "    # Now apply the boundary condition functions to set the ghost zones.\n",
    "    bc_L_f(u)\n",
    "    bc_R_f(u)\n",
    "end\n",
    "\n",
    "function evolve(u, t_final, dx, dt, a, udot_f, bc_L_f, bc_R_f)\n",
    "    t = 0\n",
    "    \n",
    "    while t < t_final\n",
    "\n",
    "        if t + dt > t_final\n",
    "            dt = t_final - t\n",
    "        end\n",
    "            \n",
    "        timestep(u, dx, dt, a, udot_f, bc_L_f, bc_R_f)\n",
    "        t += dt\n",
    "    end\n",
    "end"
   ]
  },
  {
   "cell_type": "markdown",
   "id": "1ea231f0",
   "metadata": {},
   "source": [
    "# Per-Cell update function -- where the magic happens!\n",
    "\n",
    "This function gets called on each cell to compute the time-derivative: $\\partial_t u = -a\\partial_x u$"
   ]
  },
  {
   "cell_type": "code",
   "execution_count": 8,
   "id": "e61e3253",
   "metadata": {},
   "outputs": [
    {
     "data": {
      "text/plain": [
       "udot_ftcs (generic function with 1 method)"
      ]
     },
     "execution_count": 8,
     "metadata": {},
     "output_type": "execute_result"
    }
   ],
   "source": [
    "function udot_ftcs(uL, uC, uR, a, dx)\n",
    "    # Write a function that computes du/dt for the advection equation.\n",
    "end"
   ]
  },
  {
   "cell_type": "markdown",
   "id": "dc8e0a52",
   "metadata": {},
   "source": [
    "### Test it out down here!"
   ]
  },
  {
   "cell_type": "code",
   "execution_count": null,
   "id": "70155e25",
   "metadata": {},
   "outputs": [],
   "source": []
  }
 ],
 "metadata": {
  "kernelspec": {
   "display_name": "Julia 1.8.4",
   "language": "julia",
   "name": "julia-1.8"
  },
  "language_info": {
   "file_extension": ".jl",
   "mimetype": "application/julia",
   "name": "julia",
   "version": "1.8.4"
  }
 },
 "nbformat": 4,
 "nbformat_minor": 5
}
